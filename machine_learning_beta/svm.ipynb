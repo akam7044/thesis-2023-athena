{
 "cells": [
  {
   "cell_type": "code",
   "execution_count": 264,
   "metadata": {},
   "outputs": [],
   "source": [
    "from sklearn.model_selection import StratifiedKFold, KFold\n",
    "from sklearn.metrics import roc_auc_score, confusion_matrix\n",
    "from sklearn.preprocessing import MinMaxScaler\n",
    "import numpy as np\n",
    "\n",
    "\n",
    "def weird_division(n, d):\n",
    "    return n / d if d else 0\n",
    "\n",
    "\n",
    "def validate_model(model, X, Y, fold):\n",
    "    \"\"\"\n",
    "    validates the model with a k-fold validation which is iterated\n",
    "    returns the mean accuracy, specificiy, recall, precision, f1 score and auc score\n",
    "    \"\"\"\n",
    "\n",
    "    splits = 5\n",
    "    iteration = 10\n",
    "\n",
    "    acc_list = []\n",
    "    specificity_list = []\n",
    "    recall_list = []\n",
    "    precision_list = []\n",
    "    f1_list = []\n",
    "\n",
    "    if fold == \"Strat\":\n",
    "        folds = StratifiedKFold(n_splits=splits)\n",
    "    elif fold == \"K\":\n",
    "        folds = KFold(splits, shuffle=True)\n",
    "\n",
    "    # Iterate \"interation\" times of k-fold\n",
    "    for i in range(1, iteration):\n",
    "        # print(f'Iteration {i}/{iteration}')\n",
    "\n",
    "        acc_total = 0\n",
    "        specificity_total = 0\n",
    "        recall_total = 0\n",
    "        precision_total = 0\n",
    "        f1_total = 0\n",
    "        # auc_total = 0\n",
    "\n",
    "        for train_index, test_index in folds.split(X, Y):\n",
    "            # x_train,y_train,x_test,y_test = X.iloc[train_index,:], Y.iloc[train_index,:], X.iloc[test_index,:],Y.iloc[test_index,:]\n",
    "            x_train = X.iloc[train_index, :]\n",
    "            x_test = X.iloc[test_index, :]\n",
    "            y_train = Y.iloc[train_index, :]\n",
    "            y_test = Y.iloc[test_index, :]\n",
    "\n",
    "            # scale\n",
    "            sc = MinMaxScaler()\n",
    "            x_train = sc.fit_transform(x_train)\n",
    "            x_test = sc.transform(x_test)\n",
    "\n",
    "            # fit model and predict\n",
    "            model.fit(x_train, np.ravel(y_train))\n",
    "            y_pred = model.predict(x_test)\n",
    "\n",
    "            conf_matrix = confusion_matrix(y_test, y_pred)\n",
    "            TN = conf_matrix[0][0]\n",
    "            FP = conf_matrix[0][1]\n",
    "            FN = conf_matrix[1][0]\n",
    "            TP = conf_matrix[1][1]\n",
    "\n",
    "            accuracy = (weird_division((TP + TN), (TP + TN + FP + FN))) * 100\n",
    "            recall = weird_division(TP, (TP + FN)) * 100  # recall\n",
    "            specificity = weird_division(TN, (TN + FP)) * 100\n",
    "            precision = weird_division(TP, (TP + FP)) * 100\n",
    "            f1_score = weird_division(2 * (recall * precision), (recall + precision))\n",
    "\n",
    "            # sum it up\n",
    "            acc_total += accuracy\n",
    "            recall_total += recall\n",
    "            specificity_total += specificity\n",
    "            precision_total += precision\n",
    "            f1_total += f1_score\n",
    "            # auc_total += roc_auc_score(y_test, y_pred)\n",
    "\n",
    "        # avg\n",
    "        accuracy_mean = acc_total / splits\n",
    "        recall_mean = recall_total / splits\n",
    "        specificity_mean = specificity_total / splits\n",
    "        precision_mean = precision_total / splits\n",
    "        f1_mean = f1_total / splits\n",
    "        # auc_mean = auc_total / splits\n",
    "\n",
    "        acc_list.append(accuracy_mean)\n",
    "        recall_list.append(recall_mean)\n",
    "        specificity_list.append(specificity_mean)\n",
    "        precision_list.append(precision_mean)\n",
    "        f1_list.append(f1_mean)\n",
    "        # auc_list.append(auc_mean)\n",
    "\n",
    "    print(\"Accuracy for the 10 iterations: \",  acc_list) #mean accuracy acros the 6 folds for each iteration\n",
    "    print(\"Recall for the 10 iterations: \",  recall_list) #mean accuracy acros the 6 folds for each iteration\n",
    "    print(\"Specificity for the 10 iterations: \",  specificity_list)\n",
    "    print(\"Precision for the 10 iterations: \",  precision_list)\n",
    "    print(\"F1  score for the 10 iterations: \",  f1_list)\n",
    "\n",
    "    return (\n",
    "        np.mean(acc_list),\n",
    "        np.mean(specificity_list),\n",
    "        np.mean(recall_list),\n",
    "        np.mean(precision_list),\n",
    "        np.mean(f1_list),\n",
    "        # np.mean(auc_list),\n",
    "    )\n"
   ]
  },
  {
   "cell_type": "code",
   "execution_count": 265,
   "metadata": {},
   "outputs": [],
   "source": [
    "import pandas as pd\n",
    "import os\n",
    "from sklearn.metrics import confusion_matrix\n",
    "from sklearn.model_selection import GridSearchCV\n",
    "#from validate_model import validate_model\n",
    "from sklearn.svm import SVC  \n",
    "from sklearn.model_selection import train_test_split\n",
    "\n",
    "path = '/Users/athena.kam/Documents/Thesis/codebase/thesis-2023-athena'\n",
    "os.chdir(path)\n",
    "\n",
    "CV_SPLIT = 5\n",
    "\n",
    "def get_best_param(x_train,y_train):\n",
    "    param_grid = {'C': [0.1,1, 10, 100], 'gamma': [1,0.1,0.01,0.001],'kernel': ['rbf', 'poly', 'sigmoid']}\n",
    "    grid = GridSearchCV(SVC(),param_grid,refit=True,verbose=0,return_train_score=True,cv = CV_SPLIT)\n",
    "    #print(grid.cv_results_)\n",
    "    grid.fit(x_train,y_train)\n",
    "    print(grid.best_estimator_.get_params())\n",
    "    return grid\n",
    "\n",
    "\n",
    "def train_test_SVC(filename:str,hold_out:bool,include_personal_q:bool, grid_search:bool,model_weights:dict = {}):\n",
    "\n",
    "    df = pd.read_csv(filename)\n",
    "\n",
    "    if include_personal_q:\n",
    "        df = df[df['noPersonalQ']!=1]\n",
    "    else:\n",
    "        df = df[df['personalQ']!=1]\n",
    "    \n",
    "    headers = df.columns\n",
    "    non_embeddings_headers = []\n",
    "    for header in headers:\n",
    "        if header.find('embbedings')<0:\n",
    "            non_embeddings_headers.append(header)\n",
    "    \n",
    "    X = df.drop(columns=non_embeddings_headers)\n",
    "    Y = df['classification']\n",
    "   \n",
    "    if hold_out:\n",
    "        x_train,x_test,y_train,y_test = train_test_split(X,Y,test_size=0.10)\n",
    "    else:\n",
    "        x_train = X\n",
    "        y_train = Y\n",
    "\n",
    "    if grid_search: \n",
    "        grid = get_best_param(x_train=x_train,y_train=y_train) \n",
    "        model_svc = grid.best_estimator_\n",
    "    else:\n",
    "        model_svc = SVC(C = model_weights['C'],gamma=model_weights['gamma'],kernel=model_weights['kernel'])\n",
    "        \n",
    "    accuracy, specificiy, recall, precision, f1_score =validate_model(model_svc,pd.DataFrame(x_train),pd.DataFrame(y_train),\"Strat\")\n",
    "    print(f'\\tAverage Accuracy: {accuracy} \\n\\\n",
    "      Average Specificity: {specificiy} \\n\\\n",
    "      Average Recall: {recall}\\n\\\n",
    "      Average Precision:{precision}\\n\\\n",
    "      Average F1 score {f1_score}\\n\\\n",
    "      ')\n",
    "\n"
   ]
  },
  {
   "attachments": {},
   "cell_type": "markdown",
   "metadata": {},
   "source": [
    "# Google ASR"
   ]
  },
  {
   "attachments": {},
   "cell_type": "markdown",
   "metadata": {},
   "source": [
    "## BERT embeddings \n",
    "Trying out first the embedded transcripts without personal Q"
   ]
  },
  {
   "cell_type": "code",
   "execution_count": 268,
   "metadata": {},
   "outputs": [
    {
     "name": "stdout",
     "output_type": "stream",
     "text": [
      "{'C': 0.1, 'break_ties': False, 'cache_size': 200, 'class_weight': None, 'coef0': 0.0, 'decision_function_shape': 'ovr', 'degree': 3, 'gamma': 1, 'kernel': 'poly', 'max_iter': -1, 'probability': False, 'random_state': None, 'shrinking': True, 'tol': 0.001, 'verbose': False}\n",
      "Accuracy for the 10 iterations:  [66.42857142857142, 66.42857142857142, 66.42857142857142, 66.42857142857142, 66.42857142857142, 66.42857142857142, 66.42857142857142, 66.42857142857142, 66.42857142857142]\n",
      "Recall for the 10 iterations:  [60.0, 60.0, 60.0, 60.0, 60.0, 60.0, 60.0, 60.0, 60.0]\n",
      "Specificity for the 10 iterations:  [71.0, 71.0, 71.0, 71.0, 71.0, 71.0, 71.0, 71.0, 71.0]\n",
      "Precision for the 10 iterations:  [53.33333333333333, 53.33333333333333, 53.33333333333333, 53.33333333333333, 53.33333333333333, 53.33333333333333, 53.33333333333333, 53.33333333333333, 53.33333333333333]\n",
      "F1  score for the 10 iterations:  [50.761904761904766, 50.761904761904766, 50.761904761904766, 50.761904761904766, 50.761904761904766, 50.761904761904766, 50.761904761904766, 50.761904761904766, 50.761904761904766]\n",
      "\tAverage Accuracy: 66.42857142857142 \n",
      "      Average Specificity: 71.0 \n",
      "      Average Recall: 60.0\n",
      "      Average Precision:53.33333333333333\n",
      "      Average F1 score 50.761904761904766\n",
      "      \n"
     ]
    }
   ],
   "source": [
    "params = {\"C\": 0.1, \"degree\": 3, \"gamma\": 1, \"kernel\": \"poly\"}\n",
    "grid = train_test_SVC(\n",
    "    \"datasets/transformed/spontaneousDialogueOnly_google_bert_embeddings_transformed.csv\",\n",
    "    hold_out=False,\n",
    "    include_personal_q=False,\n",
    "    grid_search=True,\n",
    "    model_weights=params,\n",
    ")"
   ]
  },
  {
   "attachments": {},
   "cell_type": "markdown",
   "metadata": {},
   "source": [
    "with personal questions"
   ]
  },
  {
   "cell_type": "code",
   "execution_count": 269,
   "metadata": {},
   "outputs": [
    {
     "name": "stdout",
     "output_type": "stream",
     "text": [
      "{'C': 100, 'break_ties': False, 'cache_size': 200, 'class_weight': None, 'coef0': 0.0, 'decision_function_shape': 'ovr', 'degree': 3, 'gamma': 0.001, 'kernel': 'sigmoid', 'max_iter': -1, 'probability': False, 'random_state': None, 'shrinking': True, 'tol': 0.001, 'verbose': False}\n",
      "Accuracy for the 10 iterations:  [68.57142857142858, 68.57142857142858, 68.57142857142858, 68.57142857142858, 68.57142857142858, 68.57142857142858, 68.57142857142858, 68.57142857142858, 68.57142857142858]\n",
      "Recall for the 10 iterations:  [59.999999999999986, 59.999999999999986, 59.999999999999986, 59.999999999999986, 59.999999999999986, 59.999999999999986, 59.999999999999986, 59.999999999999986, 59.999999999999986]\n",
      "Specificity for the 10 iterations:  [76.0, 76.0, 76.0, 76.0, 76.0, 76.0, 76.0, 76.0, 76.0]\n",
      "Precision for the 10 iterations:  [66.66666666666666, 66.66666666666666, 66.66666666666666, 66.66666666666666, 66.66666666666666, 66.66666666666666, 66.66666666666666, 66.66666666666666, 66.66666666666666]\n",
      "F1  score for the 10 iterations:  [58.76190476190476, 58.76190476190476, 58.76190476190476, 58.76190476190476, 58.76190476190476, 58.76190476190476, 58.76190476190476, 58.76190476190476, 58.76190476190476]\n",
      "\tAverage Accuracy: 68.57142857142858 \n",
      "      Average Specificity: 76.0 \n",
      "      Average Recall: 59.999999999999986\n",
      "      Average Precision:66.66666666666666\n",
      "      Average F1 score 58.761904761904766\n",
      "      \n"
     ]
    }
   ],
   "source": [
    "params = {\"C\": 100, \"degree\": 3, \"gamma\": 0.001, \"kernel\": \"sigmoid\"}\n",
    "grid = train_test_SVC(\n",
    "    \"datasets/transformed/spontaneousDialogueOnly_google_bert_embeddings_transformed.csv\",\n",
    "    hold_out=False,\n",
    "    include_personal_q=True,\n",
    "    grid_search=True,\n",
    "    model_weights=params,\n",
    ")"
   ]
  },
  {
   "cell_type": "code",
   "execution_count": 267,
   "metadata": {},
   "outputs": [
    {
     "name": "stdout",
     "output_type": "stream",
     "text": [
      "{'C': 10, 'break_ties': False, 'cache_size': 200, 'class_weight': None, 'coef0': 0.0, 'decision_function_shape': 'ovr', 'degree': 3, 'gamma': 0.001, 'kernel': 'sigmoid', 'max_iter': -1, 'probability': False, 'random_state': None, 'shrinking': True, 'tol': 0.001, 'verbose': False}\n",
      "Accuracy for the 10 iterations:  [62.43859649122807, 62.43859649122807, 62.43859649122807, 62.43859649122807, 62.43859649122807, 62.43859649122807, 62.43859649122807, 62.43859649122807, 62.43859649122807]\n",
      "Recall for the 10 iterations:  [10.919540229885058, 10.919540229885058, 10.919540229885058, 10.919540229885058, 10.919540229885058, 10.919540229885058, 10.919540229885058, 10.919540229885058, 10.919540229885058]\n",
      "Specificity for the 10 iterations:  [95.21739130434784, 95.21739130434784, 95.21739130434784, 95.21739130434784, 95.21739130434784, 95.21739130434784, 95.21739130434784, 95.21739130434784, 95.21739130434784]\n",
      "Precision for the 10 iterations:  [34.26470588235294, 34.26470588235294, 34.26470588235294, 34.26470588235294, 34.26470588235294, 34.26470588235294, 34.26470588235294, 34.26470588235294, 34.26470588235294]\n",
      "F1  score for the 10 iterations:  [15.249132649295046, 15.249132649295046, 15.249132649295046, 15.249132649295046, 15.249132649295046, 15.249132649295046, 15.249132649295046, 15.249132649295046, 15.249132649295046]\n",
      "\tAverage Accuracy: 62.43859649122807 \n",
      "      Average Specificity: 95.21739130434784 \n",
      "      Average Recall: 10.919540229885058\n",
      "      Average Precision:34.26470588235294\n",
      "      Average F1 score 15.249132649295044\n",
      "      \n"
     ]
    }
   ],
   "source": [
    "params = {\"C\": 10, \"degree\": 3, \"gamma\": 0.001, \"kernel\": \"sigmoid\"}\n",
    "grid = train_test_SVC(\n",
    "    \"datasets/transformed/spontaneousDialogueOnly_google_bert_sentence_embeddings_transformed.csv\",\n",
    "    hold_out=False,\n",
    "    include_personal_q=False,\n",
    "    grid_search=True,\n",
    "    model_weights=params\n",
    ")"
   ]
  },
  {
   "cell_type": "code",
   "execution_count": 249,
   "metadata": {},
   "outputs": [
    {
     "name": "stdout",
     "output_type": "stream",
     "text": [
      "{'C': 10, 'break_ties': False, 'cache_size': 200, 'class_weight': None, 'coef0': 0.0, 'decision_function_shape': 'ovr', 'degree': 3, 'gamma': 1, 'kernel': 'sigmoid', 'max_iter': -1, 'probability': False, 'random_state': None, 'shrinking': True, 'tol': 0.001, 'verbose': False}\n",
      "Accuracy for the 10 iterations:  [61.07142857142858, 61.07142857142858, 61.07142857142858, 61.07142857142858, 61.07142857142858, 61.07142857142858, 61.07142857142858, 61.07142857142858, 61.07142857142858]\n",
      "Recall for the 10 iterations:  [0.0, 0.0, 0.0, 0.0, 0.0, 0.0, 0.0, 0.0, 0.0]\n",
      "Specificity for the 10 iterations:  [100.0, 100.0, 100.0, 100.0, 100.0, 100.0, 100.0, 100.0, 100.0]\n",
      "Precision for the 10 iterations:  [0.0, 0.0, 0.0, 0.0, 0.0, 0.0, 0.0, 0.0, 0.0]\n",
      "F1  score for the 10 iterations:  [0.0, 0.0, 0.0, 0.0, 0.0, 0.0, 0.0, 0.0, 0.0]\n",
      "\tAverage Accuracy: 61.071428571428584 \n",
      "      Average Specificity: 100.0 \n",
      "      Average Recall: 0.0\n",
      "      Average Precision:0.0\n",
      "      Average F1 score 0.0\n",
      "      \n"
     ]
    }
   ],
   "source": [
    "params = {\"C\": 10, \"degree\": 3, \"gamma\": 1, \"kernel\": \"sigmoid\"}\n",
    "grid = train_test_SVC(\n",
    "    \"datasets/transformed/spontaneousDialogueOnly_google_gpt_embeddings_transformed.csv\",\n",
    "    hold_out=False,\n",
    "    include_personal_q=False,\n",
    "    grid_search=True,\n",
    "    model_weights=params\n",
    ")"
   ]
  },
  {
   "cell_type": "code",
   "execution_count": 237,
   "metadata": {},
   "outputs": [
    {
     "name": "stdout",
     "output_type": "stream",
     "text": [
      "{'C': 10, 'break_ties': False, 'cache_size': 200, 'class_weight': None, 'coef0': 0.0, 'decision_function_shape': 'ovr', 'degree': 3, 'gamma': 1, 'kernel': 'sigmoid', 'max_iter': -1, 'probability': False, 'random_state': None, 'shrinking': True, 'tol': 0.001, 'verbose': False}\n",
      "Accuracy for the 10 iterations:  [60.06944444444444, 60.06944444444444, 60.06944444444444, 60.06944444444444, 60.06944444444444, 60.06944444444444, 60.06944444444444, 60.06944444444444, 60.06944444444444]\n",
      "Recall for the 10 iterations:  [0.0, 0.0, 0.0, 0.0, 0.0, 0.0, 0.0, 0.0, 0.0]\n",
      "Specificity for the 10 iterations:  [100.0, 100.0, 100.0, 100.0, 100.0, 100.0, 100.0, 100.0, 100.0]\n",
      "Precision for the 10 iterations:  [0.0, 0.0, 0.0, 0.0, 0.0, 0.0, 0.0, 0.0, 0.0]\n",
      "F1  score for the 10 iterations:  [0.0, 0.0, 0.0, 0.0, 0.0, 0.0, 0.0, 0.0, 0.0]\n",
      "\tAverage Accuracy: 60.06944444444444 \n",
      "      Average Specificity: 100.0 \n",
      "      Average Recall: 0.0\n",
      "      Average Precision:0.0\n",
      "      Average F1 score 0.0\n",
      "      \n"
     ]
    }
   ],
   "source": [
    "params = {\"C\": 10, \"degree\": 3, \"gamma\": 1, \"kernel\": \"sigmoid\"}\n",
    "grid = train_test_SVC(\n",
    "    \"datasets/transformed/spontaneousDialogueOnly_google_gpt_embeddings_transformed.csv\",\n",
    "    hold_out=False,\n",
    "    include_personal_q=True,\n",
    "    grid_search=True,\n",
    "    model_weights=params\n",
    ")"
   ]
  },
  {
   "cell_type": "code",
   "execution_count": 238,
   "metadata": {},
   "outputs": [
    {
     "name": "stdout",
     "output_type": "stream",
     "text": [
      "Accuracy for the 10 iterations:  [61.11142217245241, 61.11142217245241, 61.11142217245241, 61.11142217245241, 61.11142217245241, 61.11142217245241, 61.11142217245241, 61.11142217245241, 61.11142217245241]\n",
      "Recall for the 10 iterations:  [0.0, 0.0, 0.0, 0.0, 0.0, 0.0, 0.0, 0.0, 0.0]\n",
      "Specificity for the 10 iterations:  [100.0, 100.0, 100.0, 100.0, 100.0, 100.0, 100.0, 100.0, 100.0]\n",
      "Precision for the 10 iterations:  [0.0, 0.0, 0.0, 0.0, 0.0, 0.0, 0.0, 0.0, 0.0]\n",
      "F1  score for the 10 iterations:  [0.0, 0.0, 0.0, 0.0, 0.0, 0.0, 0.0, 0.0, 0.0]\n",
      "\tAverage Accuracy: 61.11142217245241 \n",
      "      Average Specificity: 100.0 \n",
      "      Average Recall: 0.0\n",
      "      Average Precision:0.0\n",
      "      Average F1 score 0.0\n",
      "      \n"
     ]
    }
   ],
   "source": [
    "params = {\"C\": 0.1, \"degree\": 3, \"gamma\": 1, \"kernel\": \"rbf\"}\n",
    "grid = train_test_SVC(\n",
    "    \"datasets/transformed/spontaneousDialogueOnly_google_gpt_sentence_embeddings_transformed.csv\",\n",
    "    hold_out=False,\n",
    "    include_personal_q=False,\n",
    "    grid_search=False,\n",
    "    model_weights=params\n",
    ")"
   ]
  },
  {
   "attachments": {},
   "cell_type": "markdown",
   "metadata": {},
   "source": [
    "# WAV2VEC ASR"
   ]
  },
  {
   "attachments": {},
   "cell_type": "markdown",
   "metadata": {},
   "source": [
    "Since wav2vec doesn't transcribe with punctuations. I can't run the sentence embeddings method on it. For wav2vec i'll only be comparing the embeddings generated by BERT and ones generated by GPT.\n"
   ]
  },
  {
   "attachments": {},
   "cell_type": "markdown",
   "metadata": {},
   "source": [
    "## BERT \n",
    "I will first try WITHOUT personal Q"
   ]
  },
  {
   "cell_type": "code",
   "execution_count": 251,
   "metadata": {},
   "outputs": [
    {
     "name": "stdout",
     "output_type": "stream",
     "text": [
      "{'C': 0.1, 'break_ties': False, 'cache_size': 200, 'class_weight': None, 'coef0': 0.0, 'decision_function_shape': 'ovr', 'degree': 3, 'gamma': 0.01, 'kernel': 'poly', 'max_iter': -1, 'probability': False, 'random_state': None, 'shrinking': True, 'tol': 0.001, 'verbose': False}\n",
      "Accuracy for the 10 iterations:  [62.857142857142854, 62.857142857142854, 62.857142857142854, 62.857142857142854, 62.857142857142854, 62.857142857142854, 62.857142857142854, 62.857142857142854, 62.857142857142854]\n",
      "Recall for the 10 iterations:  [19.999999999999996, 19.999999999999996, 19.999999999999996, 19.999999999999996, 19.999999999999996, 19.999999999999996, 19.999999999999996, 19.999999999999996, 19.999999999999996]\n",
      "Specificity for the 10 iterations:  [90.0, 90.0, 90.0, 90.0, 90.0, 90.0, 90.0, 90.0, 90.0]\n",
      "Precision for the 10 iterations:  [46.666666666666664, 46.666666666666664, 46.666666666666664, 46.666666666666664, 46.666666666666664, 46.666666666666664, 46.666666666666664, 46.666666666666664, 46.666666666666664]\n",
      "F1  score for the 10 iterations:  [26.666666666666664, 26.666666666666664, 26.666666666666664, 26.666666666666664, 26.666666666666664, 26.666666666666664, 26.666666666666664, 26.666666666666664, 26.666666666666664]\n",
      "\tAverage Accuracy: 62.857142857142854 \n",
      "      Average Specificity: 90.0 \n",
      "      Average Recall: 19.999999999999996\n",
      "      Average Precision:46.666666666666664\n",
      "      Average F1 score 26.666666666666664\n",
      "      \n"
     ]
    }
   ],
   "source": [
    "params = {\"C\": 0.1, \"degree\": 3, \"gamma\": 0.01, \"kernel\": \"poly\"}\n",
    "grid = train_test_SVC(\n",
    "    \"datasets/transformed/spontaneousDialogueOnly_wav2vec_bert_embeddings_transformed.csv\",\n",
    "    hold_out=False,\n",
    "    include_personal_q=False,\n",
    "    grid_search=True,\n",
    "    model_weights=params\n",
    ")"
   ]
  },
  {
   "attachments": {},
   "cell_type": "markdown",
   "metadata": {},
   "source": [
    "This is WITH personal questions added in"
   ]
  },
  {
   "cell_type": "code",
   "execution_count": 252,
   "metadata": {},
   "outputs": [
    {
     "name": "stdout",
     "output_type": "stream",
     "text": [
      "{'C': 1, 'break_ties': False, 'cache_size': 200, 'class_weight': None, 'coef0': 0.0, 'decision_function_shape': 'ovr', 'degree': 3, 'gamma': 0.01, 'kernel': 'rbf', 'max_iter': -1, 'probability': False, 'random_state': None, 'shrinking': True, 'tol': 0.001, 'verbose': False}\n",
      "Accuracy for the 10 iterations:  [62.857142857142854, 62.857142857142854, 62.857142857142854, 62.857142857142854, 62.857142857142854, 62.857142857142854, 62.857142857142854, 62.857142857142854, 62.857142857142854]\n",
      "Recall for the 10 iterations:  [6.666666666666666, 6.666666666666666, 6.666666666666666, 6.666666666666666, 6.666666666666666, 6.666666666666666, 6.666666666666666, 6.666666666666666, 6.666666666666666]\n",
      "Specificity for the 10 iterations:  [100.0, 100.0, 100.0, 100.0, 100.0, 100.0, 100.0, 100.0, 100.0]\n",
      "Precision for the 10 iterations:  [20.0, 20.0, 20.0, 20.0, 20.0, 20.0, 20.0, 20.0, 20.0]\n",
      "F1  score for the 10 iterations:  [10.0, 10.0, 10.0, 10.0, 10.0, 10.0, 10.0, 10.0, 10.0]\n",
      "\tAverage Accuracy: 62.857142857142854 \n",
      "      Average Specificity: 100.0 \n",
      "      Average Recall: 6.666666666666666\n",
      "      Average Precision:20.0\n",
      "      Average F1 score 10.0\n",
      "      \n"
     ]
    }
   ],
   "source": [
    "params = {\"C\": 1, \"degree\": 3, \"gamma\": 0.01, \"kernel\": \"poly\"}\n",
    "grid = train_test_SVC(\n",
    "    \"datasets/transformed/spontaneousDialogueOnly_wav2vec_bert_embeddings_transformed.csv\",\n",
    "    hold_out=False,\n",
    "    include_personal_q=True,\n",
    "    grid_search=True,\n",
    "    model_weights=params\n",
    ")"
   ]
  },
  {
   "attachments": {},
   "cell_type": "markdown",
   "metadata": {},
   "source": [
    "## GPT "
   ]
  },
  {
   "cell_type": "code",
   "execution_count": 253,
   "metadata": {},
   "outputs": [
    {
     "name": "stdout",
     "output_type": "stream",
     "text": [
      "{'C': 10, 'break_ties': False, 'cache_size': 200, 'class_weight': None, 'coef0': 0.0, 'decision_function_shape': 'ovr', 'degree': 3, 'gamma': 1, 'kernel': 'rbf', 'max_iter': -1, 'probability': False, 'random_state': None, 'shrinking': True, 'tol': 0.001, 'verbose': False}\n",
      "Accuracy for the 10 iterations:  [60.0, 60.0, 60.0, 60.0, 60.0, 60.0, 60.0, 60.0, 60.0]\n",
      "Recall for the 10 iterations:  [0.0, 0.0, 0.0, 0.0, 0.0, 0.0, 0.0, 0.0, 0.0]\n",
      "Specificity for the 10 iterations:  [100.0, 100.0, 100.0, 100.0, 100.0, 100.0, 100.0, 100.0, 100.0]\n",
      "Precision for the 10 iterations:  [0.0, 0.0, 0.0, 0.0, 0.0, 0.0, 0.0, 0.0, 0.0]\n",
      "F1  score for the 10 iterations:  [0.0, 0.0, 0.0, 0.0, 0.0, 0.0, 0.0, 0.0, 0.0]\n",
      "\tAverage Accuracy: 60.0 \n",
      "      Average Specificity: 100.0 \n",
      "      Average Recall: 0.0\n",
      "      Average Precision:0.0\n",
      "      Average F1 score 0.0\n",
      "      \n"
     ]
    }
   ],
   "source": [
    "params = {\"C\": 10, \"degree\": 3, \"gamma\": 1, \"kernel\": \"rbf\"}\n",
    "grid = train_test_SVC(\n",
    "    \"datasets/transformed/spontaneousDialogueOnly_wav2vec_gpt_embeddings_transformed.csv\",\n",
    "    hold_out=False,\n",
    "    include_personal_q=True,\n",
    "    grid_search=True,\n",
    "    model_weights=params\n",
    ")"
   ]
  },
  {
   "attachments": {},
   "cell_type": "markdown",
   "metadata": {},
   "source": [
    "# Whisper ASR"
   ]
  },
  {
   "cell_type": "code",
   "execution_count": 254,
   "metadata": {},
   "outputs": [
    {
     "name": "stdout",
     "output_type": "stream",
     "text": [
      "{'C': 10, 'break_ties': False, 'cache_size': 200, 'class_weight': None, 'coef0': 0.0, 'decision_function_shape': 'ovr', 'degree': 3, 'gamma': 0.01, 'kernel': 'rbf', 'max_iter': -1, 'probability': False, 'random_state': None, 'shrinking': True, 'tol': 0.001, 'verbose': False}\n",
      "Accuracy for the 10 iterations:  [65.71428571428571, 65.71428571428571, 65.71428571428571, 65.71428571428571, 65.71428571428571, 65.71428571428571, 65.71428571428571, 65.71428571428571, 65.71428571428571]\n",
      "Recall for the 10 iterations:  [33.33333333333333, 33.33333333333333, 33.33333333333333, 33.33333333333333, 33.33333333333333, 33.33333333333333, 33.33333333333333, 33.33333333333333, 33.33333333333333]\n",
      "Specificity for the 10 iterations:  [85.0, 85.0, 85.0, 85.0, 85.0, 85.0, 85.0, 85.0, 85.0]\n",
      "Precision for the 10 iterations:  [48.0, 48.0, 48.0, 48.0, 48.0, 48.0, 48.0, 48.0, 48.0]\n",
      "F1  score for the 10 iterations:  [36.0, 36.0, 36.0, 36.0, 36.0, 36.0, 36.0, 36.0, 36.0]\n",
      "\tAverage Accuracy: 65.71428571428571 \n",
      "      Average Specificity: 85.0 \n",
      "      Average Recall: 33.33333333333333\n",
      "      Average Precision:48.0\n",
      "      Average F1 score 36.0\n",
      "      \n"
     ]
    }
   ],
   "source": [
    "params = {\"C\": 10, \"degree\": 3, \"gamma\": 0.01, \"kernel\": \"rbf\"}\n",
    "grid = train_test_SVC(\n",
    "    \"datasets/transformed/spontaneousDialogueOnly_whisper_bert_embeddings_transformed.csv\",\n",
    "    hold_out=False,\n",
    "    include_personal_q=False,\n",
    "    grid_search=True,\n",
    "    model_weights=params\n",
    ")"
   ]
  },
  {
   "cell_type": "code",
   "execution_count": 258,
   "metadata": {},
   "outputs": [
    {
     "name": "stdout",
     "output_type": "stream",
     "text": [
      "{'C': 0.1, 'break_ties': False, 'cache_size': 200, 'class_weight': None, 'coef0': 0.0, 'decision_function_shape': 'ovr', 'degree': 3, 'gamma': 1, 'kernel': 'rbf', 'max_iter': -1, 'probability': False, 'random_state': None, 'shrinking': True, 'tol': 0.001, 'verbose': False}\n",
      "Accuracy for the 10 iterations:  [60.0, 60.0, 60.0, 60.0, 60.0, 60.0, 60.0, 60.0, 60.0]\n",
      "Recall for the 10 iterations:  [0.0, 0.0, 0.0, 0.0, 0.0, 0.0, 0.0, 0.0, 0.0]\n",
      "Specificity for the 10 iterations:  [100.0, 100.0, 100.0, 100.0, 100.0, 100.0, 100.0, 100.0, 100.0]\n",
      "Precision for the 10 iterations:  [0.0, 0.0, 0.0, 0.0, 0.0, 0.0, 0.0, 0.0, 0.0]\n",
      "F1  score for the 10 iterations:  [0.0, 0.0, 0.0, 0.0, 0.0, 0.0, 0.0, 0.0, 0.0]\n",
      "\tAverage Accuracy: 60.0 \n",
      "      Average Specificity: 100.0 \n",
      "      Average Recall: 0.0\n",
      "      Average Precision:0.0\n",
      "      Average F1 score 0.0\n",
      "      \n"
     ]
    }
   ],
   "source": [
    "params = {\"C\": 10, \"degree\": 3, \"gamma\": 0.01, \"kernel\": \"rbf\"}\n",
    "grid = train_test_SVC(\n",
    "    \"datasets/transformed/spontaneousDialogueOnly_whisper_bert_embeddings_transformed.csv\",\n",
    "    hold_out=False,\n",
    "    include_personal_q=True,\n",
    "    grid_search=True,\n",
    "    model_weights=params\n",
    ")"
   ]
  },
  {
   "cell_type": "code",
   "execution_count": 255,
   "metadata": {},
   "outputs": [
    {
     "name": "stdout",
     "output_type": "stream",
     "text": [
      "{'C': 1, 'break_ties': False, 'cache_size': 200, 'class_weight': None, 'coef0': 0.0, 'decision_function_shape': 'ovr', 'degree': 3, 'gamma': 1, 'kernel': 'rbf', 'max_iter': -1, 'probability': False, 'random_state': None, 'shrinking': True, 'tol': 0.001, 'verbose': False}\n",
      "Accuracy for the 10 iterations:  [63.02460697197539, 63.02460697197539, 63.02460697197539, 63.02460697197539, 63.02460697197539, 63.02460697197539, 63.02460697197539, 63.02460697197539, 63.02460697197539]\n",
      "Recall for the 10 iterations:  [2.1182266009852215, 2.1182266009852215, 2.1182266009852215, 2.1182266009852215, 2.1182266009852215, 2.1182266009852215, 2.1182266009852215, 2.1182266009852215, 2.1182266009852215]\n",
      "Specificity for the 10 iterations:  [99.16666666666666, 99.16666666666666, 99.16666666666666, 99.16666666666666, 99.16666666666666, 99.16666666666666, 99.16666666666666, 99.16666666666666, 99.16666666666666]\n",
      "Precision for the 10 iterations:  [33.33333333333333, 33.33333333333333, 33.33333333333333, 33.33333333333333, 33.33333333333333, 33.33333333333333, 33.33333333333333, 33.33333333333333, 33.33333333333333]\n",
      "F1  score for the 10 iterations:  [3.913978494623656, 3.913978494623656, 3.913978494623656, 3.913978494623656, 3.913978494623656, 3.913978494623656, 3.913978494623656, 3.913978494623656, 3.913978494623656]\n",
      "\tAverage Accuracy: 63.02460697197538 \n",
      "      Average Specificity: 99.16666666666666 \n",
      "      Average Recall: 2.1182266009852215\n",
      "      Average Precision:33.33333333333333\n",
      "      Average F1 score 3.913978494623656\n",
      "      \n"
     ]
    }
   ],
   "source": [
    "params = {\"C\": 1, \"degree\": 3, \"gamma\": 1, \"kernel\": \"rbf\"}\n",
    "grid = train_test_SVC(\n",
    "    \"datasets/transformed/spontaneousDialogueOnly_whisper_bert_sentence_embeddings_transformed.csv\",\n",
    "    hold_out=False,\n",
    "    include_personal_q=False,\n",
    "    grid_search=True,\n",
    "    model_weights=params\n",
    ")"
   ]
  },
  {
   "cell_type": "code",
   "execution_count": 259,
   "metadata": {},
   "outputs": [
    {
     "name": "stdout",
     "output_type": "stream",
     "text": [
      "{'C': 0.1, 'break_ties': False, 'cache_size': 200, 'class_weight': None, 'coef0': 0.0, 'decision_function_shape': 'ovr', 'degree': 3, 'gamma': 1, 'kernel': 'rbf', 'max_iter': -1, 'probability': False, 'random_state': None, 'shrinking': True, 'tol': 0.001, 'verbose': False}\n",
      "Accuracy for the 10 iterations:  [60.0, 60.0, 60.0, 60.0, 60.0, 60.0, 60.0, 60.0, 60.0]\n",
      "Recall for the 10 iterations:  [0.0, 0.0, 0.0, 0.0, 0.0, 0.0, 0.0, 0.0, 0.0]\n",
      "Specificity for the 10 iterations:  [100.0, 100.0, 100.0, 100.0, 100.0, 100.0, 100.0, 100.0, 100.0]\n",
      "Precision for the 10 iterations:  [0.0, 0.0, 0.0, 0.0, 0.0, 0.0, 0.0, 0.0, 0.0]\n",
      "F1  score for the 10 iterations:  [0.0, 0.0, 0.0, 0.0, 0.0, 0.0, 0.0, 0.0, 0.0]\n",
      "\tAverage Accuracy: 60.0 \n",
      "      Average Specificity: 100.0 \n",
      "      Average Recall: 0.0\n",
      "      Average Precision:0.0\n",
      "      Average F1 score 0.0\n",
      "      \n"
     ]
    }
   ],
   "source": [
    "params = {\"C\": 0.1, \"degree\": 3, \"gamma\": 1, \"kernel\": \"rbf\"}\n",
    "grid = train_test_SVC(\n",
    "    \"datasets/transformed/spontaneousDialogueOnly_whisper_gpt_embeddings_transformed.csv\",\n",
    "    hold_out=False,\n",
    "    include_personal_q=False,\n",
    "    grid_search=True,\n",
    "    model_weights=params\n",
    ")"
   ]
  },
  {
   "cell_type": "code",
   "execution_count": 260,
   "metadata": {},
   "outputs": [
    {
     "name": "stdout",
     "output_type": "stream",
     "text": [
      "{'C': 0.1, 'break_ties': False, 'cache_size': 200, 'class_weight': None, 'coef0': 0.0, 'decision_function_shape': 'ovr', 'degree': 3, 'gamma': 1, 'kernel': 'rbf', 'max_iter': -1, 'probability': False, 'random_state': None, 'shrinking': True, 'tol': 0.001, 'verbose': False}\n",
      "Accuracy for the 10 iterations:  [62.761449077238545, 62.761449077238545, 62.761449077238545, 62.761449077238545, 62.761449077238545, 62.761449077238545, 62.761449077238545, 62.761449077238545, 62.761449077238545]\n",
      "Recall for the 10 iterations:  [0.0, 0.0, 0.0, 0.0, 0.0, 0.0, 0.0, 0.0, 0.0]\n",
      "Specificity for the 10 iterations:  [100.0, 100.0, 100.0, 100.0, 100.0, 100.0, 100.0, 100.0, 100.0]\n",
      "Precision for the 10 iterations:  [0.0, 0.0, 0.0, 0.0, 0.0, 0.0, 0.0, 0.0, 0.0]\n",
      "F1  score for the 10 iterations:  [0.0, 0.0, 0.0, 0.0, 0.0, 0.0, 0.0, 0.0, 0.0]\n",
      "\tAverage Accuracy: 62.761449077238545 \n",
      "      Average Specificity: 100.0 \n",
      "      Average Recall: 0.0\n",
      "      Average Precision:0.0\n",
      "      Average F1 score 0.0\n",
      "      \n"
     ]
    }
   ],
   "source": [
    "params = {\"C\": 0.1, \"degree\": 3, \"gamma\": 1, \"kernel\": \"rbf\"}\n",
    "grid = train_test_SVC(\n",
    "    \"datasets/transformed/spontaneousDialogueOnly_whisper_gpt_sentence_embeddings_transformed.csv\",\n",
    "    hold_out=False,\n",
    "    include_personal_q=False,\n",
    "    grid_search=True,\n",
    "    model_weights=params\n",
    ")"
   ]
  }
 ],
 "metadata": {
  "kernelspec": {
   "display_name": "Python 3",
   "language": "python",
   "name": "python3"
  },
  "language_info": {
   "codemirror_mode": {
    "name": "ipython",
    "version": 3
   },
   "file_extension": ".py",
   "mimetype": "text/x-python",
   "name": "python",
   "nbconvert_exporter": "python",
   "pygments_lexer": "ipython3",
   "version": "3.9.6"
  },
  "orig_nbformat": 4
 },
 "nbformat": 4,
 "nbformat_minor": 2
}
